{
 "cells": [
  {
   "cell_type": "markdown",
   "id": "b2d6ab8a",
   "metadata": {},
   "source": [
    "# Importing the libraries"
   ]
  },
  {
   "cell_type": "code",
   "execution_count": 1,
   "id": "a3ab2b54",
   "metadata": {},
   "outputs": [],
   "source": [
    "import numpy as np\n",
    "import matplotlib.pyplot as plt\n",
    "import pandas as pd"
   ]
  },
  {
   "cell_type": "markdown",
   "id": "6410a874",
   "metadata": {},
   "source": [
    "# Importing the dataset"
   ]
  },
  {
   "cell_type": "code",
   "execution_count": 2,
   "id": "bad6b296",
   "metadata": {},
   "outputs": [
    {
     "name": "stdout",
     "output_type": "stream",
     "text": [
      "<class 'pandas.core.frame.DataFrame'>\n",
      "RangeIndex: 10000 entries, 0 to 9999\n",
      "Data columns (total 14 columns):\n",
      " #   Column           Non-Null Count  Dtype  \n",
      "---  ------           --------------  -----  \n",
      " 0   RowNumber        10000 non-null  int64  \n",
      " 1   CustomerId       10000 non-null  int64  \n",
      " 2   Surname          10000 non-null  object \n",
      " 3   CreditScore      10000 non-null  int64  \n",
      " 4   Geography        10000 non-null  object \n",
      " 5   Gender           10000 non-null  object \n",
      " 6   Age              10000 non-null  int64  \n",
      " 7   Tenure           10000 non-null  int64  \n",
      " 8   Balance          10000 non-null  float64\n",
      " 9   NumOfProducts    10000 non-null  int64  \n",
      " 10  HasCrCard        10000 non-null  int64  \n",
      " 11  IsActiveMember   10000 non-null  int64  \n",
      " 12  EstimatedSalary  10000 non-null  float64\n",
      " 13  Exited           10000 non-null  int64  \n",
      "dtypes: float64(2), int64(9), object(3)\n",
      "memory usage: 1.1+ MB\n"
     ]
    }
   ],
   "source": [
    "dataset = pd.read_csv(\"Churn_Modelling.csv\")\n",
    "dataset.info()"
   ]
  },
  {
   "cell_type": "code",
   "execution_count": 3,
   "id": "0093d268",
   "metadata": {},
   "outputs": [
    {
     "data": {
      "text/html": [
       "<div>\n",
       "<style scoped>\n",
       "    .dataframe tbody tr th:only-of-type {\n",
       "        vertical-align: middle;\n",
       "    }\n",
       "\n",
       "    .dataframe tbody tr th {\n",
       "        vertical-align: top;\n",
       "    }\n",
       "\n",
       "    .dataframe thead th {\n",
       "        text-align: right;\n",
       "    }\n",
       "</style>\n",
       "<table border=\"1\" class=\"dataframe\">\n",
       "  <thead>\n",
       "    <tr style=\"text-align: right;\">\n",
       "      <th></th>\n",
       "      <th>RowNumber</th>\n",
       "      <th>CustomerId</th>\n",
       "      <th>CreditScore</th>\n",
       "      <th>Age</th>\n",
       "      <th>Tenure</th>\n",
       "      <th>Balance</th>\n",
       "      <th>NumOfProducts</th>\n",
       "      <th>HasCrCard</th>\n",
       "      <th>IsActiveMember</th>\n",
       "      <th>EstimatedSalary</th>\n",
       "      <th>Exited</th>\n",
       "    </tr>\n",
       "  </thead>\n",
       "  <tbody>\n",
       "    <tr>\n",
       "      <th>count</th>\n",
       "      <td>10000.00000</td>\n",
       "      <td>1.000000e+04</td>\n",
       "      <td>10000.000000</td>\n",
       "      <td>10000.000000</td>\n",
       "      <td>10000.000000</td>\n",
       "      <td>10000.000000</td>\n",
       "      <td>10000.000000</td>\n",
       "      <td>10000.00000</td>\n",
       "      <td>10000.000000</td>\n",
       "      <td>10000.000000</td>\n",
       "      <td>10000.000000</td>\n",
       "    </tr>\n",
       "    <tr>\n",
       "      <th>mean</th>\n",
       "      <td>5000.50000</td>\n",
       "      <td>1.569094e+07</td>\n",
       "      <td>650.528800</td>\n",
       "      <td>38.921800</td>\n",
       "      <td>5.012800</td>\n",
       "      <td>76485.889288</td>\n",
       "      <td>1.530200</td>\n",
       "      <td>0.70550</td>\n",
       "      <td>0.515100</td>\n",
       "      <td>100090.239881</td>\n",
       "      <td>0.203700</td>\n",
       "    </tr>\n",
       "    <tr>\n",
       "      <th>std</th>\n",
       "      <td>2886.89568</td>\n",
       "      <td>7.193619e+04</td>\n",
       "      <td>96.653299</td>\n",
       "      <td>10.487806</td>\n",
       "      <td>2.892174</td>\n",
       "      <td>62397.405202</td>\n",
       "      <td>0.581654</td>\n",
       "      <td>0.45584</td>\n",
       "      <td>0.499797</td>\n",
       "      <td>57510.492818</td>\n",
       "      <td>0.402769</td>\n",
       "    </tr>\n",
       "    <tr>\n",
       "      <th>min</th>\n",
       "      <td>1.00000</td>\n",
       "      <td>1.556570e+07</td>\n",
       "      <td>350.000000</td>\n",
       "      <td>18.000000</td>\n",
       "      <td>0.000000</td>\n",
       "      <td>0.000000</td>\n",
       "      <td>1.000000</td>\n",
       "      <td>0.00000</td>\n",
       "      <td>0.000000</td>\n",
       "      <td>11.580000</td>\n",
       "      <td>0.000000</td>\n",
       "    </tr>\n",
       "    <tr>\n",
       "      <th>25%</th>\n",
       "      <td>2500.75000</td>\n",
       "      <td>1.562853e+07</td>\n",
       "      <td>584.000000</td>\n",
       "      <td>32.000000</td>\n",
       "      <td>3.000000</td>\n",
       "      <td>0.000000</td>\n",
       "      <td>1.000000</td>\n",
       "      <td>0.00000</td>\n",
       "      <td>0.000000</td>\n",
       "      <td>51002.110000</td>\n",
       "      <td>0.000000</td>\n",
       "    </tr>\n",
       "    <tr>\n",
       "      <th>50%</th>\n",
       "      <td>5000.50000</td>\n",
       "      <td>1.569074e+07</td>\n",
       "      <td>652.000000</td>\n",
       "      <td>37.000000</td>\n",
       "      <td>5.000000</td>\n",
       "      <td>97198.540000</td>\n",
       "      <td>1.000000</td>\n",
       "      <td>1.00000</td>\n",
       "      <td>1.000000</td>\n",
       "      <td>100193.915000</td>\n",
       "      <td>0.000000</td>\n",
       "    </tr>\n",
       "    <tr>\n",
       "      <th>75%</th>\n",
       "      <td>7500.25000</td>\n",
       "      <td>1.575323e+07</td>\n",
       "      <td>718.000000</td>\n",
       "      <td>44.000000</td>\n",
       "      <td>7.000000</td>\n",
       "      <td>127644.240000</td>\n",
       "      <td>2.000000</td>\n",
       "      <td>1.00000</td>\n",
       "      <td>1.000000</td>\n",
       "      <td>149388.247500</td>\n",
       "      <td>0.000000</td>\n",
       "    </tr>\n",
       "    <tr>\n",
       "      <th>max</th>\n",
       "      <td>10000.00000</td>\n",
       "      <td>1.581569e+07</td>\n",
       "      <td>850.000000</td>\n",
       "      <td>92.000000</td>\n",
       "      <td>10.000000</td>\n",
       "      <td>250898.090000</td>\n",
       "      <td>4.000000</td>\n",
       "      <td>1.00000</td>\n",
       "      <td>1.000000</td>\n",
       "      <td>199992.480000</td>\n",
       "      <td>1.000000</td>\n",
       "    </tr>\n",
       "  </tbody>\n",
       "</table>\n",
       "</div>"
      ],
      "text/plain": [
       "         RowNumber    CustomerId   CreditScore           Age        Tenure  \\\n",
       "count  10000.00000  1.000000e+04  10000.000000  10000.000000  10000.000000   \n",
       "mean    5000.50000  1.569094e+07    650.528800     38.921800      5.012800   \n",
       "std     2886.89568  7.193619e+04     96.653299     10.487806      2.892174   \n",
       "min        1.00000  1.556570e+07    350.000000     18.000000      0.000000   \n",
       "25%     2500.75000  1.562853e+07    584.000000     32.000000      3.000000   \n",
       "50%     5000.50000  1.569074e+07    652.000000     37.000000      5.000000   \n",
       "75%     7500.25000  1.575323e+07    718.000000     44.000000      7.000000   \n",
       "max    10000.00000  1.581569e+07    850.000000     92.000000     10.000000   \n",
       "\n",
       "             Balance  NumOfProducts    HasCrCard  IsActiveMember  \\\n",
       "count   10000.000000   10000.000000  10000.00000    10000.000000   \n",
       "mean    76485.889288       1.530200      0.70550        0.515100   \n",
       "std     62397.405202       0.581654      0.45584        0.499797   \n",
       "min         0.000000       1.000000      0.00000        0.000000   \n",
       "25%         0.000000       1.000000      0.00000        0.000000   \n",
       "50%     97198.540000       1.000000      1.00000        1.000000   \n",
       "75%    127644.240000       2.000000      1.00000        1.000000   \n",
       "max    250898.090000       4.000000      1.00000        1.000000   \n",
       "\n",
       "       EstimatedSalary        Exited  \n",
       "count     10000.000000  10000.000000  \n",
       "mean     100090.239881      0.203700  \n",
       "std       57510.492818      0.402769  \n",
       "min          11.580000      0.000000  \n",
       "25%       51002.110000      0.000000  \n",
       "50%      100193.915000      0.000000  \n",
       "75%      149388.247500      0.000000  \n",
       "max      199992.480000      1.000000  "
      ]
     },
     "execution_count": 3,
     "metadata": {},
     "output_type": "execute_result"
    }
   ],
   "source": [
    "dataset.describe()"
   ]
  },
  {
   "cell_type": "code",
   "execution_count": 4,
   "id": "7f2cf0b1",
   "metadata": {},
   "outputs": [
    {
     "data": {
      "text/html": [
       "<div>\n",
       "<style scoped>\n",
       "    .dataframe tbody tr th:only-of-type {\n",
       "        vertical-align: middle;\n",
       "    }\n",
       "\n",
       "    .dataframe tbody tr th {\n",
       "        vertical-align: top;\n",
       "    }\n",
       "\n",
       "    .dataframe thead th {\n",
       "        text-align: right;\n",
       "    }\n",
       "</style>\n",
       "<table border=\"1\" class=\"dataframe\">\n",
       "  <thead>\n",
       "    <tr style=\"text-align: right;\">\n",
       "      <th></th>\n",
       "      <th>RowNumber</th>\n",
       "      <th>CustomerId</th>\n",
       "      <th>Surname</th>\n",
       "      <th>CreditScore</th>\n",
       "      <th>Geography</th>\n",
       "      <th>Gender</th>\n",
       "      <th>Age</th>\n",
       "      <th>Tenure</th>\n",
       "      <th>Balance</th>\n",
       "      <th>NumOfProducts</th>\n",
       "      <th>HasCrCard</th>\n",
       "      <th>IsActiveMember</th>\n",
       "      <th>EstimatedSalary</th>\n",
       "      <th>Exited</th>\n",
       "    </tr>\n",
       "  </thead>\n",
       "  <tbody>\n",
       "    <tr>\n",
       "      <th>0</th>\n",
       "      <td>1</td>\n",
       "      <td>15634602</td>\n",
       "      <td>Hargrave</td>\n",
       "      <td>619</td>\n",
       "      <td>France</td>\n",
       "      <td>Female</td>\n",
       "      <td>42</td>\n",
       "      <td>2</td>\n",
       "      <td>0.00</td>\n",
       "      <td>1</td>\n",
       "      <td>1</td>\n",
       "      <td>1</td>\n",
       "      <td>101348.88</td>\n",
       "      <td>1</td>\n",
       "    </tr>\n",
       "    <tr>\n",
       "      <th>1</th>\n",
       "      <td>2</td>\n",
       "      <td>15647311</td>\n",
       "      <td>Hill</td>\n",
       "      <td>608</td>\n",
       "      <td>Spain</td>\n",
       "      <td>Female</td>\n",
       "      <td>41</td>\n",
       "      <td>1</td>\n",
       "      <td>83807.86</td>\n",
       "      <td>1</td>\n",
       "      <td>0</td>\n",
       "      <td>1</td>\n",
       "      <td>112542.58</td>\n",
       "      <td>0</td>\n",
       "    </tr>\n",
       "    <tr>\n",
       "      <th>2</th>\n",
       "      <td>3</td>\n",
       "      <td>15619304</td>\n",
       "      <td>Onio</td>\n",
       "      <td>502</td>\n",
       "      <td>France</td>\n",
       "      <td>Female</td>\n",
       "      <td>42</td>\n",
       "      <td>8</td>\n",
       "      <td>159660.80</td>\n",
       "      <td>3</td>\n",
       "      <td>1</td>\n",
       "      <td>0</td>\n",
       "      <td>113931.57</td>\n",
       "      <td>1</td>\n",
       "    </tr>\n",
       "    <tr>\n",
       "      <th>3</th>\n",
       "      <td>4</td>\n",
       "      <td>15701354</td>\n",
       "      <td>Boni</td>\n",
       "      <td>699</td>\n",
       "      <td>France</td>\n",
       "      <td>Female</td>\n",
       "      <td>39</td>\n",
       "      <td>1</td>\n",
       "      <td>0.00</td>\n",
       "      <td>2</td>\n",
       "      <td>0</td>\n",
       "      <td>0</td>\n",
       "      <td>93826.63</td>\n",
       "      <td>0</td>\n",
       "    </tr>\n",
       "    <tr>\n",
       "      <th>4</th>\n",
       "      <td>5</td>\n",
       "      <td>15737888</td>\n",
       "      <td>Mitchell</td>\n",
       "      <td>850</td>\n",
       "      <td>Spain</td>\n",
       "      <td>Female</td>\n",
       "      <td>43</td>\n",
       "      <td>2</td>\n",
       "      <td>125510.82</td>\n",
       "      <td>1</td>\n",
       "      <td>1</td>\n",
       "      <td>1</td>\n",
       "      <td>79084.10</td>\n",
       "      <td>0</td>\n",
       "    </tr>\n",
       "  </tbody>\n",
       "</table>\n",
       "</div>"
      ],
      "text/plain": [
       "   RowNumber  CustomerId   Surname  CreditScore Geography  Gender  Age  \\\n",
       "0          1    15634602  Hargrave          619    France  Female   42   \n",
       "1          2    15647311      Hill          608     Spain  Female   41   \n",
       "2          3    15619304      Onio          502    France  Female   42   \n",
       "3          4    15701354      Boni          699    France  Female   39   \n",
       "4          5    15737888  Mitchell          850     Spain  Female   43   \n",
       "\n",
       "   Tenure    Balance  NumOfProducts  HasCrCard  IsActiveMember  \\\n",
       "0       2       0.00              1          1               1   \n",
       "1       1   83807.86              1          0               1   \n",
       "2       8  159660.80              3          1               0   \n",
       "3       1       0.00              2          0               0   \n",
       "4       2  125510.82              1          1               1   \n",
       "\n",
       "   EstimatedSalary  Exited  \n",
       "0        101348.88       1  \n",
       "1        112542.58       0  \n",
       "2        113931.57       1  \n",
       "3         93826.63       0  \n",
       "4         79084.10       0  "
      ]
     },
     "execution_count": 4,
     "metadata": {},
     "output_type": "execute_result"
    }
   ],
   "source": [
    "dataset.head()"
   ]
  },
  {
   "cell_type": "code",
   "execution_count": 5,
   "id": "1d5280ae",
   "metadata": {},
   "outputs": [],
   "source": [
    "X = dataset.iloc[:,3:13]\n",
    "y = dataset.iloc[:, 13]"
   ]
  },
  {
   "cell_type": "markdown",
   "id": "bc52146a",
   "metadata": {},
   "source": [
    "# Create dummy variables"
   ]
  },
  {
   "cell_type": "code",
   "execution_count": 6,
   "id": "905a6eee",
   "metadata": {},
   "outputs": [],
   "source": [
    "geography = pd.get_dummies(X[\"Geography\"],drop_first=True)\n",
    "gender = pd.get_dummies(X[\"Gender\"],drop_first=True)"
   ]
  },
  {
   "cell_type": "markdown",
   "id": "7f91b002",
   "metadata": {},
   "source": [
    "# Concatenate the Data Frames"
   ]
  },
  {
   "cell_type": "code",
   "execution_count": null,
   "id": "e6477370",
   "metadata": {},
   "outputs": [],
   "source": [
    "X = pd.concat([X,geography,gender],axis=1)\n",
    "X = X.drop(['Geography','Gender'],axis=1)"
   ]
  },
  {
   "cell_type": "markdown",
   "id": "dbdedffc",
   "metadata": {},
   "source": [
    "# Train Test Split"
   ]
  },
  {
   "cell_type": "code",
   "execution_count": null,
   "id": "9cad15a5",
   "metadata": {},
   "outputs": [],
   "source": [
    "from sklearn.model_selection import train_test_split\n",
    "X_train, X_test, y_train, y_test = train_test_split(X, y, test_size=0.2, random_state=0)"
   ]
  },
  {
   "cell_type": "markdown",
   "id": "26cce120",
   "metadata": {},
   "source": [
    "# Feature Scaling"
   ]
  },
  {
   "cell_type": "code",
   "execution_count": null,
   "id": "5e8f54b3",
   "metadata": {},
   "outputs": [],
   "source": [
    "from sklearn.preprocessing import StandardScaler\n",
    "sc = StandardScaler()"
   ]
  },
  {
   "cell_type": "code",
   "execution_count": null,
   "id": "38e6942d",
   "metadata": {},
   "outputs": [],
   "source": [
    "X_train = sc.fit_transform(X_train)\n",
    "X_test = sc.transform(X_test)"
   ]
  },
  {
   "cell_type": "markdown",
   "id": "8d4f83a4",
   "metadata": {},
   "source": [
    "# HyperParameter Optimisation"
   ]
  },
  {
   "cell_type": "code",
   "execution_count": null,
   "id": "f3b7756e",
   "metadata": {},
   "outputs": [],
   "source": [
    "from keras.wrappers.scikit_learn import KerasClassifier\n",
    "from sklearn.model_selection import GridSearchCV\n",
    "from keras.models import Sequential\n",
    "from keras.layers import Dense, Activation, Embedding, Flatten, LeakyReLU, BatchNormalization, Dropout\n",
    "from keras.activations import relu, sigmoid\n",
    "from keras.layers import LeakyReLU"
   ]
  },
  {
   "cell_type": "code",
   "execution_count": null,
   "id": "31f2de12",
   "metadata": {},
   "outputs": [],
   "source": [
    "def create_model(layers, activation):\n",
    "    model = Sequential()\n",
    "    for i, nodes in enumerate(layers):\n",
    "        if i==0:\n",
    "            model.add(Dense(nodes, input_dim=X_train.shape[1]))\n",
    "            model.add(Activation(activation))\n",
    "           \n",
    "        else:\n",
    "            model.add(Dense(nodes))\n",
    "            model.add(Activation(activation))\n",
    "            \n",
    "    model.add(Dense(units = 1, kernel_initializer = 'glorot_uniform', activation='sigmoid'))\n",
    "    model.compile(optimizer='adam',  loss='binary_crossentropy', metrics=['accuracy'])\n",
    "    return model"
   ]
  },
  {
   "cell_type": "code",
   "execution_count": null,
   "id": "73a7d253",
   "metadata": {},
   "outputs": [],
   "source": [
    "model = KerasClassifier(build_fn=create_model, verbose=0)\n",
    "\n",
    "layers = [[20], [40, 20], [45, 30, 15]]\n",
    "activations = ['sigmoid', 'relu']\n",
    "param_grid = dict(layers=layers, activation=activations, batch_size = [128, 256], epochs = [30])\n",
    "grid = GridSearchCV(estimator=model, param_grid = param_grid, cv=5)"
   ]
  },
  {
   "cell_type": "code",
   "execution_count": null,
   "id": "7e723c13",
   "metadata": {},
   "outputs": [],
   "source": [
    "grid_result = grid.fit(X_train, y_train)"
   ]
  },
  {
   "cell_type": "code",
   "execution_count": null,
   "id": "64f4d4f8",
   "metadata": {},
   "outputs": [],
   "source": [
    "[grid_result.best_score_, grid_result.best_params_]"
   ]
  },
  {
   "cell_type": "code",
   "execution_count": null,
   "id": "6670daab",
   "metadata": {},
   "outputs": [],
   "source": [
    "pred_y = grid.predict(X_test)"
   ]
  },
  {
   "cell_type": "code",
   "execution_count": null,
   "id": "d5336fe1",
   "metadata": {},
   "outputs": [],
   "source": [
    "y_pred = (pred_y > 0.5)"
   ]
  },
  {
   "cell_type": "code",
   "execution_count": null,
   "id": "af594c46",
   "metadata": {},
   "outputs": [],
   "source": [
    "y_pred"
   ]
  },
  {
   "cell_type": "markdown",
   "id": "ea041f2c",
   "metadata": {},
   "source": [
    "# ANN"
   ]
  },
  {
   "cell_type": "code",
   "execution_count": null,
   "id": "8239e2ee",
   "metadata": {},
   "outputs": [],
   "source": [
    "import keras\n",
    "from keras.models import Sequential\n",
    "from keras.layers import Dense\n",
    "from keras.layers import Dropout"
   ]
  },
  {
   "cell_type": "code",
   "execution_count": null,
   "id": "f364256d",
   "metadata": {},
   "outputs": [],
   "source": [
    "classifier = Sequential()"
   ]
  },
  {
   "cell_type": "markdown",
   "id": "7497d935",
   "metadata": {},
   "source": [
    "# Creating hidden layers"
   ]
  },
  {
   "cell_type": "code",
   "execution_count": null,
   "id": "4e707669",
   "metadata": {},
   "outputs": [],
   "source": [
    "classifier.add(Dense(units = 6, kernel_initializer = \"he_uniform\", activation=\"relu\",input_dim = 11))"
   ]
  },
  {
   "cell_type": "code",
   "execution_count": null,
   "id": "ee1169b6",
   "metadata": {},
   "outputs": [],
   "source": [
    "classifier.add(Dense(units =6, kernel_initializer = \"he_uniform\",activation=\"relu\"))"
   ]
  },
  {
   "cell_type": "code",
   "execution_count": null,
   "id": "dff323de",
   "metadata": {},
   "outputs": [],
   "source": [
    "classifier.add(Dense(units = 1, kernel_initializer = \"glorot_uniform\",activation=\"sigmoid\"))"
   ]
  },
  {
   "cell_type": "markdown",
   "id": "e5f8d5bb",
   "metadata": {},
   "source": [
    "# Compiling the ANN"
   ]
  },
  {
   "cell_type": "code",
   "execution_count": 52,
   "id": "59ae185d",
   "metadata": {},
   "outputs": [],
   "source": [
    "classifier.compile(optimizer = \"adam\", loss = \"binary_crossentropy\" ,metrics = [\"accuracy\"])"
   ]
  },
  {
   "cell_type": "markdown",
   "id": "30f97d92",
   "metadata": {},
   "source": [
    "# Fitting the ANN to the Training Set"
   ]
  },
  {
   "cell_type": "code",
   "execution_count": 56,
   "id": "36a3b0a4",
   "metadata": {},
   "outputs": [
    {
     "name": "stdout",
     "output_type": "stream",
     "text": [
      "Epoch 1/100\n",
      "536/536 [==============================] - 3s 5ms/step - loss: 0.3255 - accuracy: 0.8643 - val_loss: 0.3532 - val_accuracy: 0.8523\n",
      "Epoch 2/100\n",
      "536/536 [==============================] - 2s 5ms/step - loss: 0.3246 - accuracy: 0.8653 - val_loss: 0.3530 - val_accuracy: 0.8550\n",
      "Epoch 3/100\n",
      "536/536 [==============================] - 2s 4ms/step - loss: 0.3256 - accuracy: 0.8666 - val_loss: 0.3518 - val_accuracy: 0.8538\n",
      "Epoch 4/100\n",
      "536/536 [==============================] - 2s 4ms/step - loss: 0.3245 - accuracy: 0.8658 - val_loss: 0.3519 - val_accuracy: 0.8535\n",
      "Epoch 5/100\n",
      "536/536 [==============================] - 2s 4ms/step - loss: 0.3249 - accuracy: 0.8636 - val_loss: 0.3525 - val_accuracy: 0.8523\n",
      "Epoch 6/100\n",
      "536/536 [==============================] - 2s 4ms/step - loss: 0.3248 - accuracy: 0.8664 - val_loss: 0.3515 - val_accuracy: 0.8546\n",
      "Epoch 7/100\n",
      "536/536 [==============================] - 2s 5ms/step - loss: 0.3245 - accuracy: 0.8660 - val_loss: 0.3543 - val_accuracy: 0.8508\n",
      "Epoch 8/100\n",
      "536/536 [==============================] - 2s 5ms/step - loss: 0.3247 - accuracy: 0.8651 - val_loss: 0.3527 - val_accuracy: 0.8535\n",
      "Epoch 9/100\n",
      "536/536 [==============================] - 2s 4ms/step - loss: 0.3248 - accuracy: 0.8673 - val_loss: 0.3542 - val_accuracy: 0.8538\n",
      "Epoch 10/100\n",
      "536/536 [==============================] - 2s 4ms/step - loss: 0.3245 - accuracy: 0.8649 - val_loss: 0.3552 - val_accuracy: 0.8527\n",
      "Epoch 11/100\n",
      "536/536 [==============================] - 2s 5ms/step - loss: 0.3243 - accuracy: 0.8651 - val_loss: 0.3532 - val_accuracy: 0.8531\n",
      "Epoch 12/100\n",
      "536/536 [==============================] - 2s 4ms/step - loss: 0.3244 - accuracy: 0.8643 - val_loss: 0.3520 - val_accuracy: 0.8538\n",
      "Epoch 13/100\n",
      "536/536 [==============================] - 2s 5ms/step - loss: 0.3243 - accuracy: 0.8642 - val_loss: 0.3531 - val_accuracy: 0.8523\n",
      "Epoch 14/100\n",
      "536/536 [==============================] - 2s 5ms/step - loss: 0.3244 - accuracy: 0.8660 - val_loss: 0.3535 - val_accuracy: 0.8542\n",
      "Epoch 15/100\n",
      "536/536 [==============================] - 3s 5ms/step - loss: 0.3245 - accuracy: 0.8636 - val_loss: 0.3536 - val_accuracy: 0.8542\n",
      "Epoch 16/100\n",
      "536/536 [==============================] - 2s 5ms/step - loss: 0.3237 - accuracy: 0.8653 - val_loss: 0.3532 - val_accuracy: 0.8512\n",
      "Epoch 17/100\n",
      "536/536 [==============================] - 2s 5ms/step - loss: 0.3239 - accuracy: 0.8643 - val_loss: 0.3516 - val_accuracy: 0.8531\n",
      "Epoch 18/100\n",
      "536/536 [==============================] - 2s 4ms/step - loss: 0.3241 - accuracy: 0.8658 - val_loss: 0.3522 - val_accuracy: 0.8554\n",
      "Epoch 19/100\n",
      "536/536 [==============================] - 2s 4ms/step - loss: 0.3235 - accuracy: 0.8653 - val_loss: 0.3515 - val_accuracy: 0.8538\n",
      "Epoch 20/100\n",
      "536/536 [==============================] - 2s 5ms/step - loss: 0.3235 - accuracy: 0.8668 - val_loss: 0.3521 - val_accuracy: 0.8542\n",
      "Epoch 21/100\n",
      "536/536 [==============================] - 2s 4ms/step - loss: 0.3245 - accuracy: 0.8643 - val_loss: 0.3525 - val_accuracy: 0.8516\n",
      "Epoch 22/100\n",
      "536/536 [==============================] - 2s 5ms/step - loss: 0.3237 - accuracy: 0.8655 - val_loss: 0.3537 - val_accuracy: 0.8542\n",
      "Epoch 23/100\n",
      "536/536 [==============================] - 2s 5ms/step - loss: 0.3235 - accuracy: 0.8651 - val_loss: 0.3543 - val_accuracy: 0.8554\n",
      "Epoch 24/100\n",
      "536/536 [==============================] - 2s 5ms/step - loss: 0.3240 - accuracy: 0.8675 - val_loss: 0.3527 - val_accuracy: 0.8527\n",
      "Epoch 25/100\n",
      "536/536 [==============================] - 2s 4ms/step - loss: 0.3240 - accuracy: 0.8658 - val_loss: 0.3525 - val_accuracy: 0.8550\n",
      "Epoch 26/100\n",
      "536/536 [==============================] - 3s 5ms/step - loss: 0.3243 - accuracy: 0.8656 - val_loss: 0.3521 - val_accuracy: 0.8535\n",
      "Epoch 27/100\n",
      "536/536 [==============================] - 3s 5ms/step - loss: 0.3234 - accuracy: 0.8645 - val_loss: 0.3517 - val_accuracy: 0.8554\n",
      "Epoch 28/100\n",
      "536/536 [==============================] - 3s 5ms/step - loss: 0.3233 - accuracy: 0.8655 - val_loss: 0.3525 - val_accuracy: 0.8535\n",
      "Epoch 29/100\n",
      "536/536 [==============================] - 2s 5ms/step - loss: 0.3224 - accuracy: 0.8666 - val_loss: 0.3550 - val_accuracy: 0.8523\n",
      "Epoch 30/100\n",
      "536/536 [==============================] - 2s 4ms/step - loss: 0.3232 - accuracy: 0.8660 - val_loss: 0.3537 - val_accuracy: 0.8531\n",
      "Epoch 31/100\n",
      "536/536 [==============================] - 2s 4ms/step - loss: 0.3237 - accuracy: 0.8664 - val_loss: 0.3527 - val_accuracy: 0.8512\n",
      "Epoch 32/100\n",
      "536/536 [==============================] - 2s 4ms/step - loss: 0.3233 - accuracy: 0.8666 - val_loss: 0.3549 - val_accuracy: 0.8535\n",
      "Epoch 33/100\n",
      "536/536 [==============================] - 2s 4ms/step - loss: 0.3232 - accuracy: 0.8651 - val_loss: 0.3524 - val_accuracy: 0.8527\n",
      "Epoch 34/100\n",
      "536/536 [==============================] - 2s 5ms/step - loss: 0.3235 - accuracy: 0.8643 - val_loss: 0.3534 - val_accuracy: 0.8516\n",
      "Epoch 35/100\n",
      "536/536 [==============================] - 2s 5ms/step - loss: 0.3229 - accuracy: 0.8653 - val_loss: 0.3511 - val_accuracy: 0.8554\n",
      "Epoch 36/100\n",
      "536/536 [==============================] - 2s 4ms/step - loss: 0.3236 - accuracy: 0.8660 - val_loss: 0.3537 - val_accuracy: 0.8516\n",
      "Epoch 37/100\n",
      "536/536 [==============================] - 3s 5ms/step - loss: 0.3234 - accuracy: 0.8656 - val_loss: 0.3517 - val_accuracy: 0.8531\n",
      "Epoch 38/100\n",
      "536/536 [==============================] - 2s 4ms/step - loss: 0.3227 - accuracy: 0.8668 - val_loss: 0.3534 - val_accuracy: 0.8523\n",
      "Epoch 39/100\n",
      "536/536 [==============================] - 2s 5ms/step - loss: 0.3233 - accuracy: 0.8670 - val_loss: 0.3528 - val_accuracy: 0.8523\n",
      "Epoch 40/100\n",
      "536/536 [==============================] - 2s 4ms/step - loss: 0.3232 - accuracy: 0.8647 - val_loss: 0.3512 - val_accuracy: 0.8542\n",
      "Epoch 41/100\n",
      "536/536 [==============================] - 2s 4ms/step - loss: 0.3229 - accuracy: 0.8673 - val_loss: 0.3525 - val_accuracy: 0.8527\n",
      "Epoch 42/100\n",
      "536/536 [==============================] - 2s 4ms/step - loss: 0.3227 - accuracy: 0.8670 - val_loss: 0.3546 - val_accuracy: 0.8516\n",
      "Epoch 43/100\n",
      "536/536 [==============================] - 2s 4ms/step - loss: 0.3229 - accuracy: 0.8655 - val_loss: 0.3545 - val_accuracy: 0.8531\n",
      "Epoch 44/100\n",
      "536/536 [==============================] - 2s 5ms/step - loss: 0.3229 - accuracy: 0.8666 - val_loss: 0.3536 - val_accuracy: 0.8519\n",
      "Epoch 45/100\n",
      "536/536 [==============================] - 2s 4ms/step - loss: 0.3232 - accuracy: 0.8684 - val_loss: 0.3532 - val_accuracy: 0.8542\n",
      "Epoch 46/100\n",
      "536/536 [==============================] - 2s 4ms/step - loss: 0.3231 - accuracy: 0.8649 - val_loss: 0.3512 - val_accuracy: 0.8538\n",
      "Epoch 47/100\n",
      "536/536 [==============================] - 2s 4ms/step - loss: 0.3223 - accuracy: 0.8673 - val_loss: 0.3529 - val_accuracy: 0.8493\n",
      "Epoch 48/100\n",
      "536/536 [==============================] - 2s 5ms/step - loss: 0.3227 - accuracy: 0.8671 - val_loss: 0.3515 - val_accuracy: 0.8542\n",
      "Epoch 49/100\n",
      "536/536 [==============================] - 2s 4ms/step - loss: 0.3223 - accuracy: 0.8684 - val_loss: 0.3548 - val_accuracy: 0.8523\n",
      "Epoch 50/100\n",
      "536/536 [==============================] - 2s 5ms/step - loss: 0.3217 - accuracy: 0.8671 - val_loss: 0.3537 - val_accuracy: 0.8538\n",
      "Epoch 51/100\n",
      "536/536 [==============================] - 2s 4ms/step - loss: 0.3227 - accuracy: 0.8679 - val_loss: 0.3522 - val_accuracy: 0.8546\n",
      "Epoch 52/100\n",
      "536/536 [==============================] - 2s 5ms/step - loss: 0.3228 - accuracy: 0.8666 - val_loss: 0.3514 - val_accuracy: 0.8542\n",
      "Epoch 53/100\n",
      "536/536 [==============================] - 2s 4ms/step - loss: 0.3223 - accuracy: 0.8668 - val_loss: 0.3518 - val_accuracy: 0.8542\n",
      "Epoch 54/100\n",
      "536/536 [==============================] - 2s 4ms/step - loss: 0.3229 - accuracy: 0.8656 - val_loss: 0.3514 - val_accuracy: 0.8512\n",
      "Epoch 55/100\n",
      "536/536 [==============================] - 2s 4ms/step - loss: 0.3224 - accuracy: 0.8671 - val_loss: 0.3532 - val_accuracy: 0.8527\n",
      "Epoch 56/100\n",
      "536/536 [==============================] - 2s 4ms/step - loss: 0.3222 - accuracy: 0.8673 - val_loss: 0.3526 - val_accuracy: 0.8523\n",
      "Epoch 57/100\n",
      "536/536 [==============================] - 3s 5ms/step - loss: 0.3220 - accuracy: 0.8673 - val_loss: 0.3500 - val_accuracy: 0.8565\n"
     ]
    },
    {
     "name": "stdout",
     "output_type": "stream",
     "text": [
      "Epoch 58/100\n",
      "536/536 [==============================] - 2s 4ms/step - loss: 0.3231 - accuracy: 0.8664 - val_loss: 0.3517 - val_accuracy: 0.8561\n",
      "Epoch 59/100\n",
      "536/536 [==============================] - 2s 4ms/step - loss: 0.3224 - accuracy: 0.8681 - val_loss: 0.3539 - val_accuracy: 0.8523\n",
      "Epoch 60/100\n",
      "536/536 [==============================] - 2s 4ms/step - loss: 0.3224 - accuracy: 0.8666 - val_loss: 0.3502 - val_accuracy: 0.8542\n",
      "Epoch 61/100\n",
      "536/536 [==============================] - 2s 4ms/step - loss: 0.3220 - accuracy: 0.8670 - val_loss: 0.3509 - val_accuracy: 0.8538\n",
      "Epoch 62/100\n",
      "536/536 [==============================] - 2s 4ms/step - loss: 0.3219 - accuracy: 0.8673 - val_loss: 0.3530 - val_accuracy: 0.8527\n",
      "Epoch 63/100\n",
      "536/536 [==============================] - 2s 4ms/step - loss: 0.3220 - accuracy: 0.8679 - val_loss: 0.3533 - val_accuracy: 0.8535\n",
      "Epoch 64/100\n",
      "536/536 [==============================] - 2s 4ms/step - loss: 0.3224 - accuracy: 0.8686 - val_loss: 0.3526 - val_accuracy: 0.8512\n",
      "Epoch 65/100\n",
      "536/536 [==============================] - 2s 4ms/step - loss: 0.3215 - accuracy: 0.8701 - val_loss: 0.3521 - val_accuracy: 0.8516\n",
      "Epoch 66/100\n",
      "536/536 [==============================] - 2s 4ms/step - loss: 0.3213 - accuracy: 0.8673 - val_loss: 0.3523 - val_accuracy: 0.8531\n",
      "Epoch 67/100\n",
      "536/536 [==============================] - 2s 4ms/step - loss: 0.3224 - accuracy: 0.8668 - val_loss: 0.3524 - val_accuracy: 0.8523\n",
      "Epoch 68/100\n",
      "536/536 [==============================] - 3s 5ms/step - loss: 0.3221 - accuracy: 0.8653 - val_loss: 0.3514 - val_accuracy: 0.8535\n",
      "Epoch 69/100\n",
      "536/536 [==============================] - 2s 5ms/step - loss: 0.3217 - accuracy: 0.8684 - val_loss: 0.3510 - val_accuracy: 0.8550\n",
      "Epoch 70/100\n",
      "536/536 [==============================] - 2s 5ms/step - loss: 0.3212 - accuracy: 0.8684 - val_loss: 0.3522 - val_accuracy: 0.8527\n",
      "Epoch 71/100\n",
      "536/536 [==============================] - 2s 4ms/step - loss: 0.3219 - accuracy: 0.8683 - val_loss: 0.3541 - val_accuracy: 0.8527\n",
      "Epoch 72/100\n",
      "536/536 [==============================] - 2s 4ms/step - loss: 0.3219 - accuracy: 0.8660 - val_loss: 0.3501 - val_accuracy: 0.8535\n",
      "Epoch 73/100\n",
      "536/536 [==============================] - 2s 4ms/step - loss: 0.3220 - accuracy: 0.8664 - val_loss: 0.3538 - val_accuracy: 0.8542\n",
      "Epoch 74/100\n",
      "536/536 [==============================] - 2s 5ms/step - loss: 0.3213 - accuracy: 0.8677 - val_loss: 0.3517 - val_accuracy: 0.8538\n",
      "Epoch 75/100\n",
      "536/536 [==============================] - 2s 5ms/step - loss: 0.3216 - accuracy: 0.8677 - val_loss: 0.3525 - val_accuracy: 0.8542\n",
      "Epoch 76/100\n",
      "536/536 [==============================] - 2s 4ms/step - loss: 0.3211 - accuracy: 0.8679 - val_loss: 0.3504 - val_accuracy: 0.8561\n",
      "Epoch 77/100\n",
      "536/536 [==============================] - 2s 4ms/step - loss: 0.3219 - accuracy: 0.8664 - val_loss: 0.3506 - val_accuracy: 0.8535\n",
      "Epoch 78/100\n",
      "536/536 [==============================] - 2s 4ms/step - loss: 0.3212 - accuracy: 0.8690 - val_loss: 0.3516 - val_accuracy: 0.8546\n",
      "Epoch 79/100\n",
      "536/536 [==============================] - 2s 5ms/step - loss: 0.3219 - accuracy: 0.8683 - val_loss: 0.3529 - val_accuracy: 0.8512\n",
      "Epoch 80/100\n",
      "536/536 [==============================] - 2s 4ms/step - loss: 0.3219 - accuracy: 0.8666 - val_loss: 0.3509 - val_accuracy: 0.8557\n",
      "Epoch 81/100\n",
      "536/536 [==============================] - 2s 4ms/step - loss: 0.3209 - accuracy: 0.8677 - val_loss: 0.3534 - val_accuracy: 0.8542\n",
      "Epoch 82/100\n",
      "536/536 [==============================] - 2s 5ms/step - loss: 0.3216 - accuracy: 0.8673 - val_loss: 0.3517 - val_accuracy: 0.8557\n",
      "Epoch 83/100\n",
      "536/536 [==============================] - 2s 4ms/step - loss: 0.3220 - accuracy: 0.8675 - val_loss: 0.3510 - val_accuracy: 0.8535\n",
      "Epoch 84/100\n",
      "536/536 [==============================] - 2s 4ms/step - loss: 0.3211 - accuracy: 0.8694 - val_loss: 0.3515 - val_accuracy: 0.8542\n",
      "Epoch 85/100\n",
      "536/536 [==============================] - 2s 4ms/step - loss: 0.3214 - accuracy: 0.8690 - val_loss: 0.3525 - val_accuracy: 0.8531\n",
      "Epoch 86/100\n",
      "536/536 [==============================] - 2s 4ms/step - loss: 0.3212 - accuracy: 0.8662 - val_loss: 0.3527 - val_accuracy: 0.8516\n",
      "Epoch 87/100\n",
      "536/536 [==============================] - 2s 4ms/step - loss: 0.3209 - accuracy: 0.8670 - val_loss: 0.3535 - val_accuracy: 0.8542\n",
      "Epoch 88/100\n",
      "536/536 [==============================] - 2s 5ms/step - loss: 0.3209 - accuracy: 0.8703 - val_loss: 0.3508 - val_accuracy: 0.8542\n",
      "Epoch 89/100\n",
      "536/536 [==============================] - 2s 4ms/step - loss: 0.3209 - accuracy: 0.8683 - val_loss: 0.3504 - val_accuracy: 0.8531\n",
      "Epoch 90/100\n",
      "536/536 [==============================] - 2s 5ms/step - loss: 0.3214 - accuracy: 0.8675 - val_loss: 0.3521 - val_accuracy: 0.8512\n",
      "Epoch 91/100\n",
      "536/536 [==============================] - 2s 4ms/step - loss: 0.3206 - accuracy: 0.8668 - val_loss: 0.3517 - val_accuracy: 0.8535\n",
      "Epoch 92/100\n",
      "536/536 [==============================] - 2s 4ms/step - loss: 0.3214 - accuracy: 0.8662 - val_loss: 0.3521 - val_accuracy: 0.8512\n",
      "Epoch 93/100\n",
      "536/536 [==============================] - 2s 5ms/step - loss: 0.3207 - accuracy: 0.8694 - val_loss: 0.3544 - val_accuracy: 0.8546\n",
      "Epoch 94/100\n",
      "536/536 [==============================] - 2s 4ms/step - loss: 0.3211 - accuracy: 0.8683 - val_loss: 0.3519 - val_accuracy: 0.8516\n",
      "Epoch 95/100\n",
      "536/536 [==============================] - 2s 4ms/step - loss: 0.3208 - accuracy: 0.8681 - val_loss: 0.3512 - val_accuracy: 0.8546\n",
      "Epoch 96/100\n",
      "536/536 [==============================] - 2s 4ms/step - loss: 0.3211 - accuracy: 0.8656 - val_loss: 0.3500 - val_accuracy: 0.8523\n",
      "Epoch 97/100\n",
      "536/536 [==============================] - 2s 4ms/step - loss: 0.3215 - accuracy: 0.8681 - val_loss: 0.3510 - val_accuracy: 0.8504\n",
      "Epoch 98/100\n",
      "536/536 [==============================] - 2s 5ms/step - loss: 0.3208 - accuracy: 0.8673 - val_loss: 0.3499 - val_accuracy: 0.8542\n",
      "Epoch 99/100\n",
      "536/536 [==============================] - 2s 5ms/step - loss: 0.3207 - accuracy: 0.8694 - val_loss: 0.3514 - val_accuracy: 0.8546\n",
      "Epoch 100/100\n",
      "536/536 [==============================] - 2s 5ms/step - loss: 0.3204 - accuracy: 0.8688 - val_loss: 0.3511 - val_accuracy: 0.8531\n"
     ]
    }
   ],
   "source": [
    "model_history = classifier.fit(X_train, y_train, validation_split=0.33, batch_size = 10, epochs = 100)"
   ]
  },
  {
   "cell_type": "markdown",
   "id": "aaf19e2d",
   "metadata": {},
   "source": [
    "# Summarise history for loss"
   ]
  },
  {
   "cell_type": "code",
   "execution_count": 57,
   "id": "5d815e35",
   "metadata": {},
   "outputs": [
    {
     "name": "stdout",
     "output_type": "stream",
     "text": [
      "dict_keys(['loss', 'accuracy', 'val_loss', 'val_accuracy'])\n"
     ]
    }
   ],
   "source": [
    "print(model_history.history.keys())"
   ]
  },
  {
   "cell_type": "code",
   "execution_count": 59,
   "id": "b3adbf56",
   "metadata": {},
   "outputs": [
    {
     "data": {
      "image/png": "[encoded data removed]",
      "text/plain": [
       "<Figure size 640x480 with 1 Axes>"
      ]
     },
     "metadata": {},
     "output_type": "display_data"
    }
   ],
   "source": [
    "plt.plot(model_history.history['accuracy'])\n",
    "plt.plot(model_history.history['val_accuracy'])\n",
    "plt.title('model accuracy')\n",
    "plt.ylabel('accuracy')\n",
    "plt.xlabel(\"epoch\")\n",
    "plt.legend(['train','test'],loc='upper left')\n",
    "plt.show()\n"
   ]
  },
  {
   "cell_type": "code",
   "execution_count": 60,
   "id": "3e0a5ce3",
   "metadata": {},
   "outputs": [
    {
     "data": {
      "image/png": "[encoded data removed]",
      "text/plain": [
       "<Figure size 640x480 with 1 Axes>"
      ]
     },
     "metadata": {},
     "output_type": "display_data"
    }
   ],
   "source": [
    "plt.plot(model_history.history['loss'])\n",
    "plt.plot(model_history.history['val_loss'])\n",
    "plt.title('model loss')\n",
    "plt.ylabel('loss')\n",
    "plt.xlabel(\"epoch\")\n",
    "plt.legend(['train','test'],loc='upper left')\n",
    "plt.show()\n"
   ]
  },
  {
   "cell_type": "markdown",
   "id": "46a7622a",
   "metadata": {},
   "source": [
    "# Predicting the Test set Results"
   ]
  },
  {
   "cell_type": "code",
   "execution_count": 61,
   "id": "639fce7f",
   "metadata": {},
   "outputs": [
    {
     "name": "stdout",
     "output_type": "stream",
     "text": [
      "63/63 [==============================] - 0s 3ms/step\n"
     ]
    }
   ],
   "source": [
    "y_pred = classifier.predict(X_test)\n",
    "y_pred = (y_pred > 0.5)"
   ]
  },
  {
   "cell_type": "code",
   "execution_count": 68,
   "id": "9640a1ac",
   "metadata": {},
   "outputs": [
    {
     "data": {
      "text/plain": [
       "array([[1511,   84],\n",
       "       [ 198,  207]], dtype=int64)"
      ]
     },
     "execution_count": 68,
     "metadata": {},
     "output_type": "execute_result"
    }
   ],
   "source": [
    "from sklearn.metrics import confusion_matrix\n",
    "confusion_matrix(y_test, y_pred)"
   ]
  },
  {
   "cell_type": "code",
   "execution_count": 67,
   "id": "ffbfdd1a",
   "metadata": {},
   "outputs": [
    {
     "data": {
      "text/plain": [
       "0.859"
      ]
     },
     "execution_count": 67,
     "metadata": {},
     "output_type": "execute_result"
    }
   ],
   "source": [
    "from sklearn.metrics import accuracy_score\n",
    "accuracy_score(y_pred, y_test)"
   ]
  },
  {
   "cell_type": "code",
   "execution_count": null,
   "id": "b8a83d1c",
   "metadata": {},
   "outputs": [],
   "source": []
  }
 ],
 "metadata": {
  "kernelspec": {
   "display_name": "Python 3 (ipykernel)",
   "language": "python",
   "name": "python3"
  },
  "language_info": {
   "codemirror_mode": {
    "name": "ipython",
    "version": 3
   },
   "file_extension": ".py",
   "mimetype": "text/x-python",
   "name": "python",
   "nbconvert_exporter": "python",
   "pygments_lexer": "ipython3",
   "version": "3.11.0"
  }
 },
 "nbformat": 4,
 "nbformat_minor": 5
}
